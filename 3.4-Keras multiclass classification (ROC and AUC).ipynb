{
 "cells": [
  {
   "cell_type": "markdown",
   "metadata": {},
   "source": [
    "## Binary Classification\n"
   ]
  },
  {
   "cell_type": "code",
   "execution_count": 13,
   "metadata": {},
   "outputs": [
    {
     "data": {
      "text/html": [
       "<div>\n",
       "<style scoped>\n",
       "    .dataframe tbody tr th:only-of-type {\n",
       "        vertical-align: middle;\n",
       "    }\n",
       "\n",
       "    .dataframe tbody tr th {\n",
       "        vertical-align: top;\n",
       "    }\n",
       "\n",
       "    .dataframe thead th {\n",
       "        text-align: right;\n",
       "    }\n",
       "</style>\n",
       "<table border=\"1\" class=\"dataframe\">\n",
       "  <thead>\n",
       "    <tr style=\"text-align: right;\">\n",
       "      <th></th>\n",
       "      <th>id</th>\n",
       "      <th>diagnosis</th>\n",
       "      <th>mean_radius</th>\n",
       "      <th>mean_texture</th>\n",
       "      <th>mean_perimeter</th>\n",
       "      <th>mean_area</th>\n",
       "      <th>mean_smoothness</th>\n",
       "      <th>...</th>\n",
       "      <th>worst_area</th>\n",
       "      <th>worst_smoothness</th>\n",
       "      <th>worst_compactness</th>\n",
       "      <th>worst_concavity</th>\n",
       "      <th>worst_concave_points</th>\n",
       "      <th>worst_symmetry</th>\n",
       "      <th>worst_fractal_dimension</th>\n",
       "    </tr>\n",
       "  </thead>\n",
       "  <tbody>\n",
       "    <tr>\n",
       "      <th>0</th>\n",
       "      <td>842302</td>\n",
       "      <td>M</td>\n",
       "      <td>17.99</td>\n",
       "      <td>10.38</td>\n",
       "      <td>122.80</td>\n",
       "      <td>1001.0</td>\n",
       "      <td>0.11840</td>\n",
       "      <td>...</td>\n",
       "      <td>2019.0</td>\n",
       "      <td>0.16220</td>\n",
       "      <td>0.66560</td>\n",
       "      <td>0.7119</td>\n",
       "      <td>0.2654</td>\n",
       "      <td>0.4601</td>\n",
       "      <td>0.11890</td>\n",
       "    </tr>\n",
       "    <tr>\n",
       "      <th>1</th>\n",
       "      <td>842517</td>\n",
       "      <td>M</td>\n",
       "      <td>20.57</td>\n",
       "      <td>17.77</td>\n",
       "      <td>132.90</td>\n",
       "      <td>1326.0</td>\n",
       "      <td>0.08474</td>\n",
       "      <td>...</td>\n",
       "      <td>1956.0</td>\n",
       "      <td>0.12380</td>\n",
       "      <td>0.18660</td>\n",
       "      <td>0.2416</td>\n",
       "      <td>0.1860</td>\n",
       "      <td>0.2750</td>\n",
       "      <td>0.08902</td>\n",
       "    </tr>\n",
       "    <tr>\n",
       "      <th>...</th>\n",
       "      <td>...</td>\n",
       "      <td>...</td>\n",
       "      <td>...</td>\n",
       "      <td>...</td>\n",
       "      <td>...</td>\n",
       "      <td>...</td>\n",
       "      <td>...</td>\n",
       "      <td>...</td>\n",
       "      <td>...</td>\n",
       "      <td>...</td>\n",
       "      <td>...</td>\n",
       "      <td>...</td>\n",
       "      <td>...</td>\n",
       "      <td>...</td>\n",
       "      <td>...</td>\n",
       "    </tr>\n",
       "    <tr>\n",
       "      <th>567</th>\n",
       "      <td>927241</td>\n",
       "      <td>M</td>\n",
       "      <td>20.60</td>\n",
       "      <td>29.33</td>\n",
       "      <td>140.10</td>\n",
       "      <td>1265.0</td>\n",
       "      <td>0.11780</td>\n",
       "      <td>...</td>\n",
       "      <td>1821.0</td>\n",
       "      <td>0.16500</td>\n",
       "      <td>0.86810</td>\n",
       "      <td>0.9387</td>\n",
       "      <td>0.2650</td>\n",
       "      <td>0.4087</td>\n",
       "      <td>0.12400</td>\n",
       "    </tr>\n",
       "    <tr>\n",
       "      <th>568</th>\n",
       "      <td>92751</td>\n",
       "      <td>B</td>\n",
       "      <td>7.76</td>\n",
       "      <td>24.54</td>\n",
       "      <td>47.92</td>\n",
       "      <td>181.0</td>\n",
       "      <td>0.05263</td>\n",
       "      <td>...</td>\n",
       "      <td>268.6</td>\n",
       "      <td>0.08996</td>\n",
       "      <td>0.06444</td>\n",
       "      <td>0.0000</td>\n",
       "      <td>0.0000</td>\n",
       "      <td>0.2871</td>\n",
       "      <td>0.07039</td>\n",
       "    </tr>\n",
       "  </tbody>\n",
       "</table>\n",
       "<p>569 rows × 32 columns</p>\n",
       "</div>"
      ],
      "text/plain": [
       "         id diagnosis  mean_radius  mean_texture  mean_perimeter  mean_area  \\\n",
       "0    842302         M        17.99         10.38          122.80     1001.0   \n",
       "1    842517         M        20.57         17.77          132.90     1326.0   \n",
       "..      ...       ...          ...           ...             ...        ...   \n",
       "567  927241         M        20.60         29.33          140.10     1265.0   \n",
       "568   92751         B         7.76         24.54           47.92      181.0   \n",
       "\n",
       "     mean_smoothness  ...  worst_area  worst_smoothness  worst_compactness  \\\n",
       "0            0.11840  ...      2019.0           0.16220            0.66560   \n",
       "1            0.08474  ...      1956.0           0.12380            0.18660   \n",
       "..               ...  ...         ...               ...                ...   \n",
       "567          0.11780  ...      1821.0           0.16500            0.86810   \n",
       "568          0.05263  ...       268.6           0.08996            0.06444   \n",
       "\n",
       "     worst_concavity  worst_concave_points  worst_symmetry  \\\n",
       "0             0.7119                0.2654          0.4601   \n",
       "1             0.2416                0.1860          0.2750   \n",
       "..               ...                   ...             ...   \n",
       "567           0.9387                0.2650          0.4087   \n",
       "568           0.0000                0.0000          0.2871   \n",
       "\n",
       "     worst_fractal_dimension  \n",
       "0                    0.11890  \n",
       "1                    0.08902  \n",
       "..                       ...  \n",
       "567                  0.12400  \n",
       "568                  0.07039  \n",
       "\n",
       "[569 rows x 32 columns]"
      ]
     },
     "metadata": {},
     "output_type": "display_data"
    }
   ],
   "source": [
    "\n",
    "import pandas as pd\n",
    "\n",
    "df = pd.read_csv(\n",
    "    \"https://data.heatonresearch.com/data/t81-558/wcbreast_wdbc.csv\",\n",
    "    na_values=['NA','?'])\n",
    "\n",
    "pd.set_option('display.max_columns', 15)\n",
    "pd.set_option('display.max_rows', 5)\n",
    "\n",
    "display(df)"
   ]
  },
  {
   "cell_type": "code",
   "execution_count": 14,
   "metadata": {},
   "outputs": [],
   "source": [
    "from scipy.stats import zscore\n",
    "# prepare data - apply z-score to all x columns\n",
    "# Only do this if you have no categoricals (and are sure you \n",
    "# want to use z-score across the board)\n",
    "\n",
    "x_columns = df.columns.drop('diagnosis').drop('id')\n",
    "for col in x_columns:\n",
    "    df[col] = zscore(df[col])\n",
    "    \n",
    "\n"
   ]
  },
  {
   "cell_type": "code",
   "execution_count": 20,
   "metadata": {},
   "outputs": [
    {
     "data": {
      "text/plain": [
       "array([1, 1, 1, 1, 1, 1, 1, 1, 1, 1, 1, 1, 1, 1, 1, 1, 1, 1, 1, 0, 0, 0,\n",
       "       1, 1, 1, 1, 1, 1, 1, 1, 1, 1, 1, 1, 1, 1, 1, 0, 1, 1, 1, 1, 1, 1,\n",
       "       1, 1, 0, 1, 0, 0, 0, 0, 0, 1, 1, 0, 1, 1, 0, 0, 0, 0, 1, 0, 1, 1,\n",
       "       0, 0, 0, 0, 1, 0, 1, 1, 0, 1, 0, 1, 1, 0, 0, 0, 1, 1, 0, 1, 1, 1,\n",
       "       0, 0, 0, 1, 0, 0, 1, 1, 0, 0, 0, 1, 1, 0, 0, 0, 0, 1, 0, 0, 1, 0,\n",
       "       0, 0, 0, 0, 0, 0, 0, 1, 1, 1, 0, 1, 1, 0, 0, 0, 1, 1, 0, 1, 0, 1,\n",
       "       1, 0, 1, 1, 0, 0, 1, 0, 0, 1, 0, 0, 0, 0, 1, 0, 0, 0, 0, 0, 0, 0,\n",
       "       0, 0, 1, 0, 0, 0, 0, 1, 1, 0, 1, 0, 0, 1, 1, 0, 0, 1, 1, 0, 0, 0,\n",
       "       0, 1, 0, 0, 1, 1, 1, 0, 1, 0, 1, 0, 0, 0, 1, 0, 0, 1, 1, 0, 1, 1,\n",
       "       1, 1, 0, 1, 1, 1, 0, 1, 0, 1, 0, 0, 1, 0, 1, 1, 1, 1, 0, 0, 1, 1,\n",
       "       0, 0, 0, 1, 0, 0, 0, 0, 0, 1, 1, 0, 0, 1, 0, 0, 1, 1, 0, 1, 0, 0,\n",
       "       0, 0, 1, 0, 0, 0, 0, 0, 1, 0, 1, 1, 1, 1, 1, 1, 1, 1, 1, 1, 1, 1,\n",
       "       1, 1, 0, 0, 0, 0, 0, 0, 1, 0, 1, 0, 0, 1, 0, 0, 1, 0, 1, 1, 0, 0,\n",
       "       0, 0, 0, 0, 0, 0, 0, 0, 0, 0, 0, 1, 0, 0, 1, 0, 1, 0, 0, 0, 0, 0,\n",
       "       0, 0, 0, 0, 0, 0, 0, 0, 0, 1, 0, 0, 0, 1, 0, 1, 0, 0, 0, 0, 1, 1,\n",
       "       1, 0, 0, 0, 0, 1, 0, 1, 0, 1, 0, 0, 0, 1, 0, 0, 0, 0, 0, 0, 0, 1,\n",
       "       1, 1, 0, 0, 0, 0, 0, 0, 0, 0, 0, 0, 0, 1, 1, 0, 1, 1, 1, 0, 1, 1,\n",
       "       0, 0, 0, 0, 0, 1, 0, 0, 0, 0, 0, 1, 0, 0, 0, 1, 0, 0, 1, 1, 0, 0,\n",
       "       0, 0, 0, 0, 1, 0, 0, 0, 0, 0, 0, 0, 1, 0, 0, 0, 0, 0, 1, 0, 0, 1,\n",
       "       0, 0, 0, 0, 0, 0, 0, 0, 0, 0, 0, 0, 1, 0, 1, 1, 0, 1, 0, 0, 0, 0,\n",
       "       0, 1, 0, 0, 1, 0, 1, 0, 0, 1, 0, 1, 0, 0, 0, 0, 0, 0, 0, 0, 1, 1,\n",
       "       0, 0, 0, 0, 0, 0, 1, 0, 0, 0, 0, 0, 0, 0, 0, 0, 0, 1, 0, 0, 0, 0,\n",
       "       0, 0, 0, 1, 0, 1, 0, 0, 1, 0, 0, 0, 0, 0, 1, 1, 0, 1, 0, 1, 0, 0,\n",
       "       0, 0, 0, 1, 0, 0, 1, 0, 1, 0, 1, 1, 0, 0, 0, 1, 0, 0, 0, 0, 0, 0,\n",
       "       0, 0, 0, 0, 0, 1, 0, 1, 1, 0, 0, 0, 0, 0, 0, 0, 0, 0, 0, 0, 0, 0,\n",
       "       0, 0, 0, 0, 0, 0, 0, 0, 0, 0, 0, 0, 1, 1, 1, 1, 1, 1, 0],\n",
       "      dtype=int64)"
      ]
     },
     "execution_count": 20,
     "metadata": {},
     "output_type": "execute_result"
    }
   ],
   "source": [
    "#convert to numpy-Regression\n",
    "x = df[x_columns].values\n",
    "y = df['diagnosis'].map({'M':1,'B':0}).values#binary classification\n",
    "y"
   ]
  },
  {
   "cell_type": "code",
   "execution_count": 16,
   "metadata": {},
   "outputs": [],
   "source": [
    "#functions for ploting roc and auc\n",
    "import matplotlib.pyplot as plt\n",
    "from sklearn.metrics import roc_curve, auc\n",
    "\n",
    "\n",
    "# Plot a confusion matrix.\n",
    "# cm is the confusion matrix, names are the names of the classes.\n",
    "\n",
    "def plot_confusion_matrix(cm,names,title='Confusion matrix',cmap=plt.cm.Blues):\n",
    "    plt.imshow(cm,interpolation='nearest',cmap=cmap)\n",
    "    plt.title(title)\n",
    "    plt.colorbar()\n",
    "    tick_marks=np.arange(len(names))\n",
    "    plt.xticks(tick_marks, names, rotation=45)\n",
    "    plt.yticks(tick_marks, names)\n",
    "    plt.tight_layout()\n",
    "    plt.ylabel('True label')\n",
    "    plt.xlabel('Predicted label')\n",
    "    \n",
    "\n",
    "# Plot an ROC. pred - the predictions, y - the expected output.\n",
    "def plot_roc(pred,y):\n",
    "    fpr, tpr, _ = roc_curve(y, pred)\n",
    "    roc_auc = auc(fpr, tpr)\n",
    "\n",
    "    plt.figure()\n",
    "    plt.plot(fpr, tpr, label='ROC curve (area = %0.2f)' % roc_auc)\n",
    "    plt.plot([0, 1], [0, 1], 'k--')\n",
    "    plt.xlim([0.0, 1.0])\n",
    "    plt.ylim([0.0, 1.05])\n",
    "    plt.xlabel('False Positive Rate')\n",
    "    plt.ylabel('True Positive Rate')\n",
    "    plt.title('Receiver Operating Characteristic (ROC)')\n",
    "    plt.legend(loc=\"lower right\")\n",
    "    plt.show()"
   ]
  },
  {
   "cell_type": "markdown",
   "metadata": {},
   "source": [
    "# Roc chart example\n"
   ]
  },
  {
   "cell_type": "code",
   "execution_count": 21,
   "metadata": {},
   "outputs": [
    {
     "name": "stdout",
     "output_type": "stream",
     "text": [
      "Train on 426 samples, validate on 143 samples\n",
      "Epoch 1/1000\n",
      "426/426 - 2s - loss: 0.6878 - accuracy: 0.7582 - val_loss: 0.6736 - val_accuracy: 0.9301\n",
      "Epoch 2/1000\n",
      "426/426 - 0s - loss: 0.6368 - accuracy: 0.9155 - val_loss: 0.5605 - val_accuracy: 0.9720\n",
      "Epoch 3/1000\n",
      "426/426 - 0s - loss: 0.4444 - accuracy: 0.9484 - val_loss: 0.2705 - val_accuracy: 0.9720\n",
      "Epoch 4/1000\n",
      "426/426 - 0s - loss: 0.2068 - accuracy: 0.9484 - val_loss: 0.1010 - val_accuracy: 0.9720\n",
      "Epoch 5/1000\n",
      "426/426 - 0s - loss: 0.1164 - accuracy: 0.9671 - val_loss: 0.0601 - val_accuracy: 0.9790\n",
      "Epoch 6/1000\n",
      "426/426 - 0s - loss: 0.0853 - accuracy: 0.9742 - val_loss: 0.0611 - val_accuracy: 0.9720\n",
      "Epoch 7/1000\n",
      "426/426 - 0s - loss: 0.0734 - accuracy: 0.9765 - val_loss: 0.0495 - val_accuracy: 0.9930\n",
      "Epoch 8/1000\n",
      "426/426 - 0s - loss: 0.0651 - accuracy: 0.9812 - val_loss: 0.0492 - val_accuracy: 0.9930\n",
      "Epoch 9/1000\n",
      "426/426 - 0s - loss: 0.0597 - accuracy: 0.9789 - val_loss: 0.0514 - val_accuracy: 0.9860\n",
      "Epoch 10/1000\n",
      "426/426 - 0s - loss: 0.0546 - accuracy: 0.9812 - val_loss: 0.0478 - val_accuracy: 0.9860\n",
      "Epoch 11/1000\n",
      "426/426 - 0s - loss: 0.0496 - accuracy: 0.9859 - val_loss: 0.0465 - val_accuracy: 0.9860\n",
      "Epoch 12/1000\n",
      "426/426 - 0s - loss: 0.0442 - accuracy: 0.9859 - val_loss: 0.0456 - val_accuracy: 0.9860\n",
      "Epoch 13/1000\n",
      "426/426 - 0s - loss: 0.0413 - accuracy: 0.9883 - val_loss: 0.0483 - val_accuracy: 0.9860\n",
      "Epoch 14/1000\n",
      "426/426 - 0s - loss: 0.0384 - accuracy: 0.9930 - val_loss: 0.0505 - val_accuracy: 0.9860\n",
      "Epoch 15/1000\n",
      "426/426 - 0s - loss: 0.0354 - accuracy: 0.9883 - val_loss: 0.0542 - val_accuracy: 0.9860\n",
      "Epoch 16/1000\n",
      "Restoring model weights from the end of the best epoch.\n",
      "426/426 - 0s - loss: 0.0324 - accuracy: 0.9930 - val_loss: 0.0522 - val_accuracy: 0.9860\n",
      "Epoch 00016: early stopping\n"
     ]
    },
    {
     "data": {
      "text/plain": [
       "<tensorflow.python.keras.callbacks.History at 0x223659361c8>"
      ]
     },
     "execution_count": 21,
     "metadata": {},
     "output_type": "execute_result"
    }
   ],
   "source": [
    "import numpy as np\n",
    "import tensorflow.keras\n",
    "from tensorflow.keras.models import Sequential\n",
    "from tensorflow.keras.layers import Dense, Activation\n",
    "from tensorflow.keras.callbacks import EarlyStopping\n",
    "from sklearn.model_selection import train_test_split\n",
    "\n",
    "# Split into train/test\n",
    "x_train, x_test, y_train, y_test = train_test_split(    \n",
    "    x, y, test_size=0.25, random_state=42)\n",
    "\n",
    "model = Sequential()\n",
    "model.add(Dense(100, input_dim=x.shape[1], activation='relu',\n",
    "                kernel_initializer='random_normal'))\n",
    "model.add(Dense(50,activation='relu',kernel_initializer='random_normal'))\n",
    "model.add(Dense(25,activation='relu',kernel_initializer='random_normal'))\n",
    "model.add(Dense(1,activation='linear',kernel_initializer='random_normal'))\n",
    "model.compile(loss='binary_crossentropy', \n",
    "              optimizer=tensorflow.keras.optimizers.Adam(),\n",
    "              metrics =['accuracy'])\n",
    "#binary crossentropy coz binary classyfication, 1 output but classification\n",
    "\n",
    "monitor = EarlyStopping(monitor='val_loss', min_delta=1e-3, \n",
    "    patience=5, verbose=1, mode='auto', restore_best_weights=True)\n",
    "\n",
    "model.fit(x_train,y_train,validation_data=(x_test,y_test),\n",
    "          callbacks=[monitor],verbose=2,epochs=1000)"
   ]
  },
  {
   "cell_type": "code",
   "execution_count": 23,
   "metadata": {},
   "outputs": [
    {
     "data": {
      "image/png": "[encoded data removed]",
      "text/plain": [
       "<Figure size 432x288 with 1 Axes>"
      ]
     },
     "metadata": {
      "needs_background": "light"
     },
     "output_type": "display_data"
    }
   ],
   "source": [
    "pred=model.predict(x_test)\n",
    "plot_roc(pred,y_test)"
   ]
  },
  {
   "cell_type": "markdown",
   "metadata": {},
   "source": [
    "# Multiclass clasification\n",
    "## error metrics\n",
    "\n",
    "    "
   ]
  },
  {
   "cell_type": "code",
   "execution_count": 36,
   "metadata": {},
   "outputs": [],
   "source": [
    "##PREPARE THE DATA!!!##\n",
    "import pandas as pd\n",
    "from scipy.stats import zscore\n",
    "\n",
    "# Read the data set\n",
    "df = pd.read_csv(\n",
    "    \"https://data.heatonresearch.com/data/t81-558/jh-simple-dataset.csv\",\n",
    "    na_values=['NA','?'])\n",
    "\n",
    "#see how it looks\n",
    "#now generate dummies for where its needed\n",
    "df = pd.concat([df,pd.get_dummies(df['job'],prefix='job')],axis=1)\n",
    "df.drop('job',axis=1,inplace=True)\n",
    "\n",
    "df = pd.concat([df,pd.get_dummies(df['area'],prefix='area')],axis=1)\n",
    "df.drop('area',axis=1,inplace=True)\n",
    "\n",
    "#missing values filing\n",
    "med =df['income'].median()\n",
    "df['income'] = df['income'].fillna(med)\n",
    "\n",
    "#standarize ranges with z-score\n",
    "df['income']=zscore(df['income'])\n",
    "df['aspect']=zscore(df['aspect'])\n",
    "df['save_rate']=zscore(df['save_rate'])\n",
    "df['age']=zscore(df['age'])\n",
    "df['subscriptions']=zscore(df['subscriptions'])\n",
    "\n",
    "#convert to numpy - classification\n",
    "x_columns=df.columns.drop('product').drop('id')\n",
    "x=df[x_columns].values\n",
    "\n",
    "dummies = pd.get_dummies(df['product']) #is for classification\n",
    "products = dummies.columns\n",
    "y=dummies.values"
   ]
  },
  {
   "cell_type": "code",
   "execution_count": 48,
   "metadata": {},
   "outputs": [
    {
     "name": "stdout",
     "output_type": "stream",
     "text": [
      "Train on 1500 samples, validate on 500 samples\n",
      "Epoch 1/1000\n",
      "1500/1500 - 1s - loss: 1.6164 - accuracy: 0.4733 - val_loss: 1.1600 - val_accuracy: 0.4980\n",
      "Epoch 2/1000\n",
      "1500/1500 - 0s - loss: 1.1536 - accuracy: 0.4760 - val_loss: 1.0928 - val_accuracy: 0.4980\n",
      "Epoch 3/1000\n",
      "1500/1500 - 0s - loss: 1.0975 - accuracy: 0.4787 - val_loss: 1.0321 - val_accuracy: 0.5020\n",
      "Epoch 4/1000\n",
      "1500/1500 - 0s - loss: 0.9899 - accuracy: 0.5147 - val_loss: 0.9497 - val_accuracy: 0.5160\n",
      "Epoch 5/1000\n",
      "1500/1500 - 0s - loss: 0.8947 - accuracy: 0.5213 - val_loss: 0.8996 - val_accuracy: 0.5200\n",
      "Epoch 6/1000\n",
      "1500/1500 - 0s - loss: 0.8466 - accuracy: 0.5200 - val_loss: 0.8574 - val_accuracy: 0.5260\n",
      "Epoch 7/1000\n",
      "1500/1500 - 0s - loss: 0.8179 - accuracy: 0.5240 - val_loss: 0.8271 - val_accuracy: 0.5260\n",
      "Epoch 8/1000\n",
      "1500/1500 - 0s - loss: 0.7996 - accuracy: 0.5253 - val_loss: 0.8148 - val_accuracy: 0.5280\n",
      "Epoch 9/1000\n",
      "1500/1500 - 0s - loss: 0.7915 - accuracy: 0.5280 - val_loss: 0.8064 - val_accuracy: 0.5300\n",
      "Epoch 10/1000\n",
      "1500/1500 - 0s - loss: 0.7752 - accuracy: 0.5280 - val_loss: 0.8204 - val_accuracy: 0.5300\n",
      "Epoch 11/1000\n",
      "1500/1500 - 0s - loss: 0.7707 - accuracy: 0.5273 - val_loss: 0.8137 - val_accuracy: 0.5320\n",
      "Epoch 12/1000\n",
      "1500/1500 - 0s - loss: 0.7658 - accuracy: 0.5260 - val_loss: 0.7905 - val_accuracy: 0.5320\n",
      "Epoch 13/1000\n",
      "1500/1500 - 0s - loss: 0.7610 - accuracy: 0.5280 - val_loss: 0.8049 - val_accuracy: 0.5280\n",
      "Epoch 14/1000\n",
      "1500/1500 - 0s - loss: 0.7644 - accuracy: 0.5273 - val_loss: 0.8091 - val_accuracy: 0.5320\n",
      "Epoch 15/1000\n",
      "1500/1500 - 0s - loss: 0.7520 - accuracy: 0.5280 - val_loss: 0.7823 - val_accuracy: 0.5320\n",
      "Epoch 16/1000\n",
      "1500/1500 - 0s - loss: 0.7456 - accuracy: 0.5293 - val_loss: 0.7766 - val_accuracy: 0.5320\n",
      "Epoch 17/1000\n",
      "1500/1500 - 0s - loss: 0.7422 - accuracy: 0.5287 - val_loss: 0.7842 - val_accuracy: 0.5320\n",
      "Epoch 18/1000\n",
      "1500/1500 - 0s - loss: 0.7389 - accuracy: 0.5320 - val_loss: 0.7722 - val_accuracy: 0.5320\n",
      "Epoch 19/1000\n",
      "1500/1500 - 0s - loss: 0.7412 - accuracy: 0.5320 - val_loss: 0.7778 - val_accuracy: 0.5320\n",
      "Epoch 20/1000\n",
      "1500/1500 - 0s - loss: 0.7362 - accuracy: 0.5313 - val_loss: 0.7712 - val_accuracy: 0.5320\n",
      "Epoch 21/1000\n",
      "1500/1500 - 0s - loss: 0.7259 - accuracy: 0.5313 - val_loss: 0.7776 - val_accuracy: 0.5300\n",
      "Epoch 22/1000\n",
      "1500/1500 - 0s - loss: 0.7360 - accuracy: 0.5293 - val_loss: 0.7698 - val_accuracy: 0.5320\n",
      "Epoch 23/1000\n",
      "1500/1500 - 0s - loss: 0.7299 - accuracy: 0.5307 - val_loss: 0.7801 - val_accuracy: 0.5280\n",
      "Epoch 24/1000\n",
      "1500/1500 - 0s - loss: 0.7241 - accuracy: 0.5307 - val_loss: 0.7712 - val_accuracy: 0.5320\n",
      "Epoch 25/1000\n",
      "1500/1500 - 0s - loss: 0.7254 - accuracy: 0.5313 - val_loss: 0.7991 - val_accuracy: 0.5320\n",
      "Epoch 26/1000\n",
      "1500/1500 - 0s - loss: 0.7261 - accuracy: 0.5433 - val_loss: 0.7682 - val_accuracy: 0.5620\n",
      "Epoch 27/1000\n",
      "1500/1500 - 0s - loss: 0.7160 - accuracy: 0.5693 - val_loss: 0.7638 - val_accuracy: 0.6160\n",
      "Epoch 28/1000\n",
      "1500/1500 - 0s - loss: 0.7045 - accuracy: 0.6853 - val_loss: 0.7540 - val_accuracy: 0.6560\n",
      "Epoch 29/1000\n",
      "1500/1500 - 0s - loss: 0.6725 - accuracy: 0.7047 - val_loss: 0.7433 - val_accuracy: 0.6960\n",
      "Epoch 30/1000\n",
      "1500/1500 - 0s - loss: 0.6825 - accuracy: 0.7100 - val_loss: 0.7256 - val_accuracy: 0.7020\n",
      "Epoch 31/1000\n",
      "1500/1500 - 0s - loss: 0.6651 - accuracy: 0.7013 - val_loss: 0.7328 - val_accuracy: 0.7180\n",
      "Epoch 32/1000\n",
      "1500/1500 - 0s - loss: 0.6533 - accuracy: 0.7007 - val_loss: 0.7329 - val_accuracy: 0.6980\n",
      "Epoch 33/1000\n",
      "1500/1500 - 0s - loss: 0.6435 - accuracy: 0.7167 - val_loss: 0.7240 - val_accuracy: 0.6940\n",
      "Epoch 34/1000\n",
      "1500/1500 - 0s - loss: 0.6492 - accuracy: 0.7120 - val_loss: 0.7154 - val_accuracy: 0.7000\n",
      "Epoch 35/1000\n",
      "1500/1500 - 0s - loss: 0.6379 - accuracy: 0.7153 - val_loss: 0.7264 - val_accuracy: 0.7100\n",
      "Epoch 36/1000\n",
      "1500/1500 - 0s - loss: 0.6345 - accuracy: 0.7120 - val_loss: 0.7409 - val_accuracy: 0.6900\n",
      "Epoch 37/1000\n",
      "1500/1500 - 0s - loss: 0.6408 - accuracy: 0.7080 - val_loss: 0.7249 - val_accuracy: 0.7060\n",
      "Epoch 38/1000\n",
      "1500/1500 - 0s - loss: 0.6295 - accuracy: 0.7240 - val_loss: 0.7276 - val_accuracy: 0.7020\n",
      "Epoch 39/1000\n",
      "Restoring model weights from the end of the best epoch.\n",
      "1500/1500 - 0s - loss: 0.6265 - accuracy: 0.7180 - val_loss: 0.7317 - val_accuracy: 0.7140\n",
      "Epoch 00039: early stopping\n"
     ]
    },
    {
     "data": {
      "text/plain": [
       "<tensorflow.python.keras.callbacks.History at 0x22378eb6288>"
      ]
     },
     "execution_count": 48,
     "metadata": {},
     "output_type": "execute_result"
    }
   ],
   "source": [
    "##NEURAL NETWORK!!##\n",
    "import numpy as np\n",
    "import tensorflow.keras\n",
    "from tensorflow.keras.models import Sequential\n",
    "from tensorflow.keras.layers import Dense,Activation\n",
    "from tensorflow.keras.callbacks import EarlyStopping\n",
    "from sklearn.model_selection import train_test_split\n",
    "\n",
    "#split into train/test\n",
    "x_train, x_test, y_train, y_test = train_test_split(\n",
    "                                    x,y,test_size=0.25,random_state=42)\n",
    "\n",
    "model = Sequential()\n",
    "model.add(Dense(100,input_dim=x.shape[1],activation='relu',\n",
    "         kernel_initializer='random_normal'))\n",
    "model.add(Dense(50,activation='relu', kernel_initializer='random_normal'))\n",
    "model.add(Dense(25,activation='relu', kernel_initializer='random_normal'))\n",
    "model.add(Dense(y.shape[1],activation='sigmoid', \n",
    "         kernel_initializer='random_normal'))\n",
    "model.compile(loss='categorical_crossentropy',\n",
    "             optimizer='Adam',metrics=['accuracy'])\n",
    "\n",
    "monitor = EarlyStopping(monitor='val_loss', min_delta=1e-3,patience=5,\n",
    "                       verbose=1, mode='auto', restore_best_weights=True)\n",
    "model.fit(x_train,y_train,validation_data=(x_test,y_test),\n",
    "          callbacks=[monitor],verbose=2,epochs=1000)\n"
   ]
  },
  {
   "cell_type": "markdown",
   "metadata": {},
   "source": [
    "## calculate classification accuracy\n",
    "####  acc=c/n\n",
    "#### c-correct data \n",
    "#### n-full data"
   ]
  },
  {
   "cell_type": "code",
   "execution_count": 49,
   "metadata": {},
   "outputs": [],
   "source": [
    "pred=model.predict(x_test)\n",
    "pred=np.argmax(pred,axis=1)"
   ]
  },
  {
   "cell_type": "code",
   "execution_count": 50,
   "metadata": {},
   "outputs": [
    {
     "data": {
      "text/plain": [
       "0.7"
      ]
     },
     "execution_count": 50,
     "metadata": {},
     "output_type": "execute_result"
    }
   ],
   "source": [
    "from sklearn import metrics\n",
    "y_compare = np.argmax(y_test,axis=1)\n",
    "score = metrics.accuracy_score(y_compare,pred)\n",
    "score"
   ]
  },
  {
   "cell_type": "markdown",
   "metadata": {},
   "source": [
    "## calculate Classification Log Loss"
   ]
  },
  {
   "cell_type": "code",
   "execution_count": 58,
   "metadata": {},
   "outputs": [
    {
     "data": {
      "text/plain": [
       "array([[ 0.0005, 25.96  , 91.8853, 51.9662,  0.1933,  0.0041,  0.    ],\n",
       "       [ 0.0002, 23.2156, 10.3703,  0.0011,  0.0279,  0.0016,  0.    ],\n",
       "       [ 0.001 , 28.0431, 13.8562,  0.0052,  0.1323,  0.0104,  0.    ],\n",
       "       [ 0.0009, 28.1607, 60.8507,  1.0233,  0.2281,  0.0091,  0.    ],\n",
       "       [ 0.    , 17.7952, 96.0121, 27.0705,  0.0169,  0.0001,  0.    ]],\n",
       "      dtype=float32)"
      ]
     },
     "metadata": {},
     "output_type": "display_data"
    },
    {
     "name": "stdout",
     "output_type": "stream",
     "text": [
      "Log loss score is 0.7153806255832315\n"
     ]
    }
   ],
   "source": [
    "from IPython.display import display\n",
    "\n",
    "np.set_printoptions(precision=4,suppress=True)\n",
    "#np.set_printoptions(suppress=True)\n",
    "\n",
    "pred=model.predict(x_test) \n",
    "display(pred[0:5]*100)#as a percent probability\n",
    "#log loss is looking also for probability of good answer not only if it is good prediction or bad\n",
    "score = metrics.log_loss(y_test,pred)\n",
    "print(f'Log loss score is {score}')\n",
    "#google log loss to see formula"
   ]
  },
  {
   "cell_type": "markdown",
   "metadata": {},
   "source": [
    "## confusion matrix\n"
   ]
  },
  {
   "cell_type": "code",
   "execution_count": 61,
   "metadata": {},
   "outputs": [
    {
     "name": "stdout",
     "output_type": "stream",
     "text": [
      "Confusion matrix, without normalization\n",
      "[[ 21   1   0   0   0   0   0]\n",
      " [  4 183  62   0   0   0   0]\n",
      " [  0  41 146   0   0   0   0]\n",
      " [  0   0  14   0   0   0   0]\n",
      " [  0   8   0   0   0   0   0]\n",
      " [ 12   5   0   0   0   0   0]\n",
      " [  3   0   0   0   0   0   0]]\n",
      "Normalized confusion matrix\n",
      "[[0.95 0.05 0.   0.   0.   0.   0.  ]\n",
      " [0.02 0.73 0.25 0.   0.   0.   0.  ]\n",
      " [0.   0.22 0.78 0.   0.   0.   0.  ]\n",
      " [0.   0.   1.   0.   0.   0.   0.  ]\n",
      " [0.   1.   0.   0.   0.   0.   0.  ]\n",
      " [0.71 0.29 0.   0.   0.   0.   0.  ]\n",
      " [1.   0.   0.   0.   0.   0.   0.  ]]\n"
     ]
    },
    {
     "data": {
      "image/png": "[encoded data removed]",
      "text/plain": [
       "<Figure size 432x288 with 2 Axes>"
      ]
     },
     "metadata": {
      "needs_background": "light"
     },
     "output_type": "display_data"
    },
    {
     "data": {
      "image/png": "[encoded data removed]",
      "text/plain": [
       "<Figure size 432x288 with 2 Axes>"
      ]
     },
     "metadata": {
      "needs_background": "light"
     },
     "output_type": "display_data"
    }
   ],
   "source": [
    "#function to draw it was previously defined\n",
    "import numpy as np\n",
    "from sklearn import svm, datasets\n",
    "from sklearn.model_selection import train_test_split\n",
    "from sklearn.metrics import confusion_matrix\n",
    "\n",
    "pred=model.predict(x_test)\n",
    "pred=np.argmax(pred,axis=1)\n",
    "y_compare = np.argmax(y_test,axis=1)\n",
    "\n",
    "# Compute confusion matrix\n",
    "cm = confusion_matrix(y_compare, pred)\n",
    "np.set_printoptions(precision=2)\n",
    "print('Confusion matrix, without normalization')\n",
    "print(cm)\n",
    "plt.figure()\n",
    "plot_confusion_matrix(cm, products)\n",
    "\n",
    "# Normalize the confusion matrix by row (i.e by the number of samples\n",
    "# in each class)\n",
    "cm_normalized = cm.astype('float') / cm.sum(axis=1)[:, np.newaxis]\n",
    "print('Normalized confusion matrix')\n",
    "print(cm_normalized)\n",
    "plt.figure()\n",
    "plot_confusion_matrix(cm_normalized, products, title='Normalized confusion matrix')\n",
    "\n",
    "plt.show()\n"
   ]
  },
  {
   "cell_type": "code",
   "execution_count": null,
   "metadata": {},
   "outputs": [],
   "source": []
  }
 ],
 "metadata": {
  "kernelspec": {
   "display_name": "Python 3.7 (tensorflow)",
   "language": "python",
   "name": "tensorflow"
  },
  "language_info": {
   "codemirror_mode": {
    "name": "ipython",
    "version": 3
   },
   "file_extension": ".py",
   "mimetype": "text/x-python",
   "name": "python",
   "nbconvert_exporter": "python",
   "pygments_lexer": "ipython3",
   "version": "3.7.7"
  }
 },
 "nbformat": 4,
 "nbformat_minor": 4
}
