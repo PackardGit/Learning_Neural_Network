{
 "cells": [
  {
   "cell_type": "code",
   "execution_count": 2,
   "metadata": {},
   "outputs": [],
   "source": [
    "from __future__ import absolute_import, division, print_function, unicode_literals\n",
    "\n",
    "\n",
    "import tensorflow as tf\n",
    "\n",
    "import pandas as pd"
   ]
  },
  {
   "cell_type": "code",
   "execution_count": 3,
   "metadata": {},
   "outputs": [],
   "source": [
    "CSV_COLUMN_NAMES = ['SepalLength', 'SepalWidth', 'PetalLength', 'PetalWidth', 'Species']\n",
    "SPECIES = ['Setosa', 'Versicolor', 'Virginica']\n",
    "# Lets define some constants to help us later on"
   ]
  },
  {
   "cell_type": "code",
   "execution_count": 4,
   "metadata": {},
   "outputs": [],
   "source": [
    "train_path = tf.keras.utils.get_file(\n",
    "    \"iris_training.csv\", \"https://storage.googleapis.com/download.tensorflow.org/data/iris_training.csv\")\n",
    "test_path = tf.keras.utils.get_file(\n",
    "    \"iris_test.csv\", \"https://storage.googleapis.com/download.tensorflow.org/data/iris_test.csv\")\n",
    "\n",
    "train = pd.read_csv(train_path, names=CSV_COLUMN_NAMES, header=0)\n",
    "test = pd.read_csv(test_path, names=CSV_COLUMN_NAMES, header=0)\n",
    "# Here we use keras (a module inside of TensorFlow) to grab our datasets and read them into a pandas dataframe\n",
    "train_y = train.pop('Species')\n",
    "test_y = test.pop('Species')"
   ]
  },
  {
   "cell_type": "code",
   "execution_count": 5,
   "metadata": {},
   "outputs": [],
   "source": [
    "def input_fn(features, labels, training=True, batch_size=256):\n",
    "    # Convert the inputs to a Dataset.\n",
    "    dataset = tf.data.Dataset.from_tensor_slices((dict(features), labels))\n",
    "\n",
    "    # Shuffle and repeat if you are in training mode.\n",
    "    if training:\n",
    "        dataset = dataset.shuffle(1000).repeat()\n",
    "    \n",
    "    return dataset.batch(batch_size)\n"
   ]
  },
  {
   "cell_type": "code",
   "execution_count": 6,
   "metadata": {},
   "outputs": [
    {
     "name": "stdout",
     "output_type": "stream",
     "text": [
      "[NumericColumn(key='SepalLength', shape=(1,), default_value=None, dtype=tf.float32, normalizer_fn=None), NumericColumn(key='SepalWidth', shape=(1,), default_value=None, dtype=tf.float32, normalizer_fn=None), NumericColumn(key='PetalLength', shape=(1,), default_value=None, dtype=tf.float32, normalizer_fn=None), NumericColumn(key='PetalWidth', shape=(1,), default_value=None, dtype=tf.float32, normalizer_fn=None)]\n"
     ]
    }
   ],
   "source": [
    "# Feature columns describe how to use the input.\n",
    "my_feature_columns = []\n",
    "for key in train.keys():\n",
    "    my_feature_columns.append(tf.feature_column.numeric_column(key=key))\n",
    "print(my_feature_columns)"
   ]
  },
  {
   "cell_type": "code",
   "execution_count": 7,
   "metadata": {},
   "outputs": [
    {
     "name": "stdout",
     "output_type": "stream",
     "text": [
      "INFO:tensorflow:Using default config.\n",
      "WARNING:tensorflow:Using temporary folder as model directory: C:\\Users\\Adrian\\AppData\\Local\\Temp\\tmp1ttwl80o\n",
      "INFO:tensorflow:Using config: {'_model_dir': 'C:\\\\Users\\\\Adrian\\\\AppData\\\\Local\\\\Temp\\\\tmp1ttwl80o', '_tf_random_seed': None, '_save_summary_steps': 100, '_save_checkpoints_steps': None, '_save_checkpoints_secs': 600, '_session_config': allow_soft_placement: true\n",
      "graph_options {\n",
      "  rewrite_options {\n",
      "    meta_optimizer_iterations: ONE\n",
      "  }\n",
      "}\n",
      ", '_keep_checkpoint_max': 5, '_keep_checkpoint_every_n_hours': 10000, '_log_step_count_steps': 100, '_train_distribute': None, '_device_fn': None, '_protocol': None, '_eval_distribute': None, '_experimental_distribute': None, '_experimental_max_worker_delay_secs': None, '_session_creation_timeout_secs': 7200, '_service': None, '_cluster_spec': <tensorflow.python.training.server_lib.ClusterSpec object at 0x000001F41F8F9A08>, '_task_type': 'worker', '_task_id': 0, '_global_id_in_cluster': 0, '_master': '', '_evaluation_master': '', '_is_chief': True, '_num_ps_replicas': 0, '_num_worker_replicas': 1}\n"
     ]
    }
   ],
   "source": [
    "# Build a DNN with 2 hidden layers with 30 and 10 hidden nodes each.\n",
    "classifier = tf.estimator.DNNClassifier(\n",
    "    feature_columns=my_feature_columns,\n",
    "    # Two hidden layers of 30 and 10 nodes respectively.\n",
    "    hidden_units=[30, 10],\n",
    "    # The model must choose between 3 classes.\n",
    "    n_classes=3)"
   ]
  },
  {
   "cell_type": "code",
   "execution_count": 8,
   "metadata": {},
   "outputs": [
    {
     "name": "stdout",
     "output_type": "stream",
     "text": [
      "WARNING:tensorflow:From C:\\Users\\Adrian\\miniconda3\\envs\\tensorflow\\lib\\site-packages\\tensorflow_core\\python\\ops\\resource_variable_ops.py:1630: calling BaseResourceVariable.__init__ (from tensorflow.python.ops.resource_variable_ops) with constraint is deprecated and will be removed in a future version.\n",
      "Instructions for updating:\n",
      "If using Keras pass *_constraint arguments to layers.\n",
      "WARNING:tensorflow:From C:\\Users\\Adrian\\miniconda3\\envs\\tensorflow\\lib\\site-packages\\tensorflow_core\\python\\training\\training_util.py:236: Variable.initialized_value (from tensorflow.python.ops.variables) is deprecated and will be removed in a future version.\n",
      "Instructions for updating:\n",
      "Use Variable.read_value. Variables in 2.X are initialized automatically both in eager and graph (inside tf.defun) contexts.\n",
      "INFO:tensorflow:Calling model_fn.\n",
      "WARNING:tensorflow:Layer dnn is casting an input tensor from dtype float64 to the layer's dtype of float32, which is new behavior in TensorFlow 2.  The layer has dtype float32 because it's dtype defaults to floatx.\n",
      "\n",
      "If you intended to run this layer in float32, you can safely ignore this warning. If in doubt, this warning is likely only an issue if you are porting a TensorFlow 1.X model to TensorFlow 2.\n",
      "\n",
      "To change all layers to have dtype float64 by default, call `tf.keras.backend.set_floatx('float64')`. To change just this layer, pass dtype='float64' to the layer constructor. If you are the author of this layer, you can disable autocasting by passing autocast=False to the base Layer constructor.\n",
      "\n",
      "WARNING:tensorflow:From C:\\Users\\Adrian\\miniconda3\\envs\\tensorflow\\lib\\site-packages\\tensorflow_core\\python\\keras\\optimizer_v2\\adagrad.py:108: calling Constant.__init__ (from tensorflow.python.ops.init_ops) with dtype is deprecated and will be removed in a future version.\n",
      "Instructions for updating:\n",
      "Call initializer instance with the dtype argument instead of passing it to the constructor\n",
      "INFO:tensorflow:Done calling model_fn.\n",
      "INFO:tensorflow:Create CheckpointSaverHook.\n",
      "INFO:tensorflow:Graph was finalized.\n",
      "INFO:tensorflow:Running local_init_op.\n",
      "INFO:tensorflow:Done running local_init_op.\n",
      "INFO:tensorflow:Saving checkpoints for 0 into C:\\Users\\Adrian\\AppData\\Local\\Temp\\tmp1ttwl80o\\model.ckpt.\n",
      "INFO:tensorflow:loss = 1.4997737, step = 0\n",
      "INFO:tensorflow:global_step/sec: 305.749\n",
      "INFO:tensorflow:loss = 1.1547483, step = 100 (0.328 sec)\n",
      "INFO:tensorflow:global_step/sec: 371.36\n",
      "INFO:tensorflow:loss = 1.0808176, step = 200 (0.270 sec)\n",
      "INFO:tensorflow:global_step/sec: 385.645\n",
      "INFO:tensorflow:loss = 1.0365173, step = 300 (0.259 sec)\n",
      "INFO:tensorflow:global_step/sec: 387.131\n",
      "INFO:tensorflow:loss = 1.0245786, step = 400 (0.258 sec)\n",
      "INFO:tensorflow:global_step/sec: 384.167\n",
      "INFO:tensorflow:loss = 0.987683, step = 500 (0.259 sec)\n",
      "INFO:tensorflow:global_step/sec: 391.668\n",
      "INFO:tensorflow:loss = 0.96531093, step = 600 (0.256 sec)\n",
      "INFO:tensorflow:global_step/sec: 391.669\n",
      "INFO:tensorflow:loss = 0.94084036, step = 700 (0.255 sec)\n",
      "INFO:tensorflow:global_step/sec: 385.643\n",
      "INFO:tensorflow:loss = 0.9458309, step = 800 (0.259 sec)\n",
      "INFO:tensorflow:global_step/sec: 391.321\n",
      "INFO:tensorflow:loss = 0.9124777, step = 900 (0.256 sec)\n",
      "INFO:tensorflow:global_step/sec: 388.632\n",
      "INFO:tensorflow:loss = 0.8936943, step = 1000 (0.257 sec)\n",
      "INFO:tensorflow:global_step/sec: 335.642\n",
      "INFO:tensorflow:loss = 0.87754273, step = 1100 (0.303 sec)\n",
      "INFO:tensorflow:global_step/sec: 315.305\n",
      "INFO:tensorflow:loss = 0.85752904, step = 1200 (0.315 sec)\n",
      "INFO:tensorflow:global_step/sec: 241.817\n",
      "INFO:tensorflow:loss = 0.84510505, step = 1300 (0.410 sec)\n",
      "INFO:tensorflow:global_step/sec: 349.364\n",
      "INFO:tensorflow:loss = 0.827636, step = 1400 (0.288 sec)\n",
      "INFO:tensorflow:global_step/sec: 348.151\n",
      "INFO:tensorflow:loss = 0.80958533, step = 1500 (0.285 sec)\n",
      "INFO:tensorflow:global_step/sec: 350.585\n",
      "INFO:tensorflow:loss = 0.7997077, step = 1600 (0.286 sec)\n",
      "INFO:tensorflow:global_step/sec: 339.217\n",
      "INFO:tensorflow:loss = 0.7761719, step = 1700 (0.294 sec)\n",
      "INFO:tensorflow:global_step/sec: 341.621\n",
      "INFO:tensorflow:loss = 0.77546334, step = 1800 (0.294 sec)\n",
      "INFO:tensorflow:global_step/sec: 341.742\n",
      "INFO:tensorflow:loss = 0.7571756, step = 1900 (0.292 sec)\n",
      "INFO:tensorflow:global_step/sec: 329.8\n",
      "INFO:tensorflow:loss = 0.7547747, step = 2000 (0.303 sec)\n",
      "INFO:tensorflow:global_step/sec: 340.016\n",
      "INFO:tensorflow:loss = 0.7320843, step = 2100 (0.294 sec)\n",
      "INFO:tensorflow:global_step/sec: 351.814\n",
      "INFO:tensorflow:loss = 0.7344759, step = 2200 (0.284 sec)\n",
      "INFO:tensorflow:global_step/sec: 350.299\n",
      "INFO:tensorflow:loss = 0.71684563, step = 2300 (0.286 sec)\n",
      "INFO:tensorflow:global_step/sec: 344.346\n",
      "INFO:tensorflow:loss = 0.7100574, step = 2400 (0.290 sec)\n",
      "INFO:tensorflow:global_step/sec: 332.327\n",
      "INFO:tensorflow:loss = 0.69846004, step = 2500 (0.301 sec)\n",
      "INFO:tensorflow:global_step/sec: 345.759\n",
      "INFO:tensorflow:loss = 0.696967, step = 2600 (0.288 sec)\n",
      "INFO:tensorflow:global_step/sec: 353.736\n",
      "INFO:tensorflow:loss = 0.6789551, step = 2700 (0.283 sec)\n",
      "INFO:tensorflow:global_step/sec: 352.529\n",
      "INFO:tensorflow:loss = 0.6691854, step = 2800 (0.285 sec)\n",
      "INFO:tensorflow:global_step/sec: 348.488\n",
      "INFO:tensorflow:loss = 0.6633802, step = 2900 (0.287 sec)\n",
      "INFO:tensorflow:global_step/sec: 354.533\n",
      "INFO:tensorflow:loss = 0.6604395, step = 3000 (0.281 sec)\n",
      "INFO:tensorflow:global_step/sec: 353.095\n",
      "INFO:tensorflow:loss = 0.65603, step = 3100 (0.283 sec)\n",
      "INFO:tensorflow:global_step/sec: 353.028\n",
      "INFO:tensorflow:loss = 0.6317699, step = 3200 (0.283 sec)\n",
      "INFO:tensorflow:global_step/sec: 354.326\n",
      "INFO:tensorflow:loss = 0.626765, step = 3300 (0.283 sec)\n",
      "INFO:tensorflow:global_step/sec: 357.319\n",
      "INFO:tensorflow:loss = 0.61777437, step = 3400 (0.279 sec)\n",
      "INFO:tensorflow:global_step/sec: 352.577\n",
      "INFO:tensorflow:loss = 0.61575216, step = 3500 (0.284 sec)\n",
      "INFO:tensorflow:global_step/sec: 336.468\n",
      "INFO:tensorflow:loss = 0.6093602, step = 3600 (0.297 sec)\n",
      "INFO:tensorflow:global_step/sec: 355.662\n",
      "INFO:tensorflow:loss = 0.6068547, step = 3700 (0.282 sec)\n",
      "INFO:tensorflow:global_step/sec: 346.946\n",
      "INFO:tensorflow:loss = 0.5967522, step = 3800 (0.288 sec)\n",
      "INFO:tensorflow:global_step/sec: 356.789\n",
      "INFO:tensorflow:loss = 0.5876684, step = 3900 (0.280 sec)\n",
      "INFO:tensorflow:global_step/sec: 348.586\n",
      "INFO:tensorflow:loss = 0.5771786, step = 4000 (0.287 sec)\n",
      "INFO:tensorflow:global_step/sec: 341.517\n",
      "INFO:tensorflow:loss = 0.57584476, step = 4100 (0.292 sec)\n",
      "INFO:tensorflow:global_step/sec: 338.77\n",
      "INFO:tensorflow:loss = 0.5659976, step = 4200 (0.296 sec)\n",
      "INFO:tensorflow:global_step/sec: 346.944\n",
      "INFO:tensorflow:loss = 0.5680574, step = 4300 (0.288 sec)\n",
      "INFO:tensorflow:global_step/sec: 330.283\n",
      "INFO:tensorflow:loss = 0.5614593, step = 4400 (0.303 sec)\n",
      "INFO:tensorflow:global_step/sec: 349.014\n",
      "INFO:tensorflow:loss = 0.5547863, step = 4500 (0.286 sec)\n",
      "INFO:tensorflow:global_step/sec: 340.848\n",
      "INFO:tensorflow:loss = 0.54453003, step = 4600 (0.294 sec)\n",
      "INFO:tensorflow:global_step/sec: 348.15\n",
      "INFO:tensorflow:loss = 0.5358035, step = 4700 (0.287 sec)\n",
      "INFO:tensorflow:global_step/sec: 349.364\n",
      "INFO:tensorflow:loss = 0.53545606, step = 4800 (0.286 sec)\n",
      "INFO:tensorflow:global_step/sec: 353.053\n",
      "INFO:tensorflow:loss = 0.5345992, step = 4900 (0.283 sec)\n",
      "INFO:tensorflow:Saving checkpoints for 5000 into C:\\Users\\Adrian\\AppData\\Local\\Temp\\tmp1ttwl80o\\model.ckpt.\n",
      "INFO:tensorflow:Loss for final step: 0.5301383.\n"
     ]
    },
    {
     "data": {
      "text/plain": [
       "<tensorflow_estimator.python.estimator.canned.dnn.DNNClassifierV2 at 0x1f41f8def88>"
      ]
     },
     "execution_count": 8,
     "metadata": {},
     "output_type": "execute_result"
    }
   ],
   "source": [
    "classifier.train(\n",
    "    input_fn=lambda: input_fn(train, train_y, training=True),\n",
    "    steps=5000)\n",
    "# We include a lambda to avoid creating an inner function previously"
   ]
  },
  {
   "cell_type": "code",
   "execution_count": 9,
   "metadata": {},
   "outputs": [
    {
     "name": "stdout",
     "output_type": "stream",
     "text": [
      "INFO:tensorflow:Calling model_fn.\n",
      "WARNING:tensorflow:Layer dnn is casting an input tensor from dtype float64 to the layer's dtype of float32, which is new behavior in TensorFlow 2.  The layer has dtype float32 because it's dtype defaults to floatx.\n",
      "\n",
      "If you intended to run this layer in float32, you can safely ignore this warning. If in doubt, this warning is likely only an issue if you are porting a TensorFlow 1.X model to TensorFlow 2.\n",
      "\n",
      "To change all layers to have dtype float64 by default, call `tf.keras.backend.set_floatx('float64')`. To change just this layer, pass dtype='float64' to the layer constructor. If you are the author of this layer, you can disable autocasting by passing autocast=False to the base Layer constructor.\n",
      "\n",
      "INFO:tensorflow:Done calling model_fn.\n",
      "INFO:tensorflow:Starting evaluation at 2020-05-25T17:56:15Z\n",
      "INFO:tensorflow:Graph was finalized.\n",
      "INFO:tensorflow:Restoring parameters from C:\\Users\\Adrian\\AppData\\Local\\Temp\\tmp1ttwl80o\\model.ckpt-5000\n",
      "INFO:tensorflow:Running local_init_op.\n",
      "INFO:tensorflow:Done running local_init_op.\n",
      "INFO:tensorflow:Finished evaluation at 2020-05-25-17:56:16\n",
      "INFO:tensorflow:Saving dict for global step 5000: accuracy = 0.8333333, average_loss = 0.60032094, global_step = 5000, loss = 0.60032094\n",
      "INFO:tensorflow:Saving 'checkpoint_path' summary for global step 5000: C:\\Users\\Adrian\\AppData\\Local\\Temp\\tmp1ttwl80o\\model.ckpt-5000\n",
      "\n",
      "Test set accuracy: 0.833\n",
      "\n"
     ]
    }
   ],
   "source": [
    "\n",
    "eval_result = classifier.evaluate(\n",
    "    input_fn=lambda: input_fn(test, test_y, training=False))\n",
    "\n",
    "print('\\nTest set accuracy: {accuracy:0.3f}\\n'.format(**eval_result))"
   ]
  },
  {
   "cell_type": "markdown",
   "metadata": {},
   "source": [
    "# Prediction for given details"
   ]
  },
  {
   "cell_type": "code",
   "execution_count": 10,
   "metadata": {},
   "outputs": [
    {
     "name": "stdout",
     "output_type": "stream",
     "text": [
      "Please type numeric values as prompted.\n",
      "SepalLength: 1.2\n",
      "SepalWidth: 2.3\n",
      "PetalLength: 3.2\n",
      "PetalWidth: 4.5\n",
      "INFO:tensorflow:Calling model_fn.\n",
      "INFO:tensorflow:Done calling model_fn.\n",
      "INFO:tensorflow:Graph was finalized.\n",
      "INFO:tensorflow:Restoring parameters from C:\\Users\\Adrian\\AppData\\Local\\Temp\\tmp1ttwl80o\\model.ckpt-5000\n",
      "INFO:tensorflow:Running local_init_op.\n",
      "INFO:tensorflow:Done running local_init_op.\n",
      "{'logits': array([-3.091071  , -0.40629423,  1.4573989 ], dtype=float32), 'probabilities': array([0.00907914, 0.13305409, 0.85786676], dtype=float32), 'class_ids': array([2], dtype=int64), 'classes': array([b'2'], dtype=object), 'all_class_ids': array([0, 1, 2]), 'all_classes': array([b'0', b'1', b'2'], dtype=object)}\n",
      "Prediction is \"Virginica\" (85.8%)\n"
     ]
    }
   ],
   "source": [
    "def input_fn(features, batch_size=256):\n",
    "    # Convert the inputs to a Dataset without labels.\n",
    "    return tf.data.Dataset.from_tensor_slices(dict(features)).batch(batch_size)\n",
    "\n",
    "features = ['SepalLength', 'SepalWidth', 'PetalLength', 'PetalWidth']\n",
    "predict = {}\n",
    "\n",
    "print(\"Please type numeric values as prompted.\")\n",
    "for feature in features:\n",
    "  valid = True\n",
    "  while valid: \n",
    "    val = input(feature + \": \")\n",
    "    if not val.isdigit(): valid = False\n",
    "\n",
    "  predict[feature] = [float(val)]\n",
    "\n",
    "predictions = classifier.predict(input_fn=lambda: input_fn(predict))\n",
    "for pred_dict in predictions:\n",
    "    print(pred_dict)\n",
    "    class_id = pred_dict['class_ids'][0]\n",
    "    probability = pred_dict['probabilities'][class_id]\n",
    "\n",
    "    print('Prediction is \"{}\" ({:.1f}%)'.format(\n",
    "        SPECIES[class_id], 100 * probability))"
   ]
  },
  {
   "cell_type": "code",
   "execution_count": null,
   "metadata": {},
   "outputs": [],
   "source": []
  }
 ],
 "metadata": {
  "kernelspec": {
   "display_name": "Python 3.7 (tensorflow)",
   "language": "python",
   "name": "tensorflow"
  },
  "language_info": {
   "codemirror_mode": {
    "name": "ipython",
    "version": 3
   },
   "file_extension": ".py",
   "mimetype": "text/x-python",
   "name": "python",
   "nbconvert_exporter": "python",
   "pygments_lexer": "ipython3",
   "version": "3.7.7"
  }
 },
 "nbformat": 4,
 "nbformat_minor": 4
}
